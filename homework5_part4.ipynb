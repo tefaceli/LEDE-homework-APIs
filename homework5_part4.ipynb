{
 "cells": [
  {
   "cell_type": "markdown",
   "id": "799843fb",
   "metadata": {},
   "source": [
    "In this notebook you'll be using [Spotipy](https://github.com/spotipy-dev/spotipy), a Python package, to talk to the Spotify API. This means you won't have to manually create API URLs, you'll just need to figure out how to make Spotipy do it for you! The full Spotipy documentation is available at [https://spotipy.readthedocs.io/](https://spotipy.readthedocs.io/)\n",
    "\n",
    "# To access *public* Spotify data\n",
    "\n",
    "You'll want to go to the [Spotify for Developers Dashboard](https://developer.spotify.com/dashboard) and create a new app. This will give you a `client_id` and `client_secret`! It's like a super-advanced version of an API key. When you're setting up your app it will probably also ask you for other things like a redirect URL - just put whatever you want in there, it doesn't matter. If it asks what you want access to, you can pick the Web API (but I don't think it matters).\n",
    "\n",
    "> The code below won't work since it's *my* secret keys. I've deleted them so that this notebook is nice and safe for me!"
   ]
  },
  {
   "cell_type": "code",
   "execution_count": 1,
   "id": "69d353cf-b451-4da7-9a44-6f2a15e28522",
   "metadata": {},
   "outputs": [],
   "source": [
    "from dotenv import load_dotenv\n",
    "import os\n",
    "load_dotenv()\n",
    "client_id = os.getenv(\"spotify_client_id\")\n",
    "client_secret = os.getenv(\"spotify_client_secret\")"
   ]
  },
  {
   "cell_type": "code",
   "execution_count": 2,
   "id": "b53ee125-9349-4434-8e01-5369c4145342",
   "metadata": {},
   "outputs": [],
   "source": [
    "import spotipy\n",
    "from spotipy.oauth2 import SpotifyClientCredentials\n",
    "\n",
    "sp = spotipy.Spotify(auth_manager=SpotifyClientCredentials(\n",
    "    client_id=client_id,\n",
    "    client_secret=client_secret,\n",
    "))"
   ]
  },
  {
   "cell_type": "markdown",
   "id": "df431b17",
   "metadata": {},
   "source": [
    "When you want data from Spotify, you can't just go to `/artists/Pixies` in order to get work by Pixies! You have to find a special code for the artist (or song, or album, or whatever). It's called the `uri`.\n",
    "\n",
    "> You can find more details on searching [on the Spotipy documentation](https://spotipy.readthedocs.io/en/2.22.1/#spotipy.client.Spotify.search) or the [Spotify Web API documentation](https://developer.spotify.com/documentation/web-api/reference/search). Remember that Spotipy is a Python wrapper for the Spotify API, so you don't need to work with any URLs!\n",
    "\n",
    "To find the `uri`, you first need to do a search. Below we use `sp.search` to search for a particular artist."
   ]
  },
  {
   "cell_type": "code",
   "execution_count": 3,
   "id": "23ca8854-ccdf-4225-b542-c2dc113bd8e7",
   "metadata": {},
   "outputs": [],
   "source": [
    "# Search for the artist Pixies\n",
    "results = sp.search(q='artist:Pixies', type='artist')"
   ]
  },
  {
   "cell_type": "markdown",
   "id": "7721bc81",
   "metadata": {},
   "source": [
    "The `results` it shows us is awful and long and terrible. Instead of showing you how to do that, I already poked through it and found the top artist result from our search."
   ]
  },
  {
   "cell_type": "code",
   "execution_count": 4,
   "id": "2b8eed9b-b34e-419e-b621-7246f5437f4b",
   "metadata": {},
   "outputs": [
    {
     "data": {
      "text/plain": [
       "{'external_urls': {'spotify': 'https://open.spotify.com/artist/6zvul52xwTWzilBZl6BUbT'},\n",
       " 'followers': {'href': None, 'total': 3404561},\n",
       " 'genres': ['alternative rock'],\n",
       " 'href': 'https://api.spotify.com/v1/artists/6zvul52xwTWzilBZl6BUbT',\n",
       " 'id': '6zvul52xwTWzilBZl6BUbT',\n",
       " 'images': [{'url': 'https://i.scdn.co/image/ab6761610000e5eb6281c5914a991e5c0e6e9d13',\n",
       "   'height': 640,\n",
       "   'width': 640},\n",
       "  {'url': 'https://i.scdn.co/image/ab676161000051746281c5914a991e5c0e6e9d13',\n",
       "   'height': 320,\n",
       "   'width': 320},\n",
       "  {'url': 'https://i.scdn.co/image/ab6761610000f1786281c5914a991e5c0e6e9d13',\n",
       "   'height': 160,\n",
       "   'width': 160}],\n",
       " 'name': 'Pixies',\n",
       " 'popularity': 72,\n",
       " 'type': 'artist',\n",
       " 'uri': 'spotify:artist:6zvul52xwTWzilBZl6BUbT'}"
      ]
     },
     "execution_count": 4,
     "metadata": {},
     "output_type": "execute_result"
    }
   ],
   "source": [
    "results['artists']['items'][0]"
   ]
  },
  {
   "cell_type": "markdown",
   "id": "f9c8b4d0",
   "metadata": {},
   "source": [
    "There we go! The `uri` looks to be `spotify:artist:6zvul52xwTWzilBZl6BUbT`.\n",
    "\n",
    "Now the sad part: the Spotipy documentation is...... not great. The Spotify Web API docs look good, *but* we're using the Python wrapper, not the raw Spotify API! Luckily Spotipy has a great [list of examples](https://github.com/spotipy-dev/spotipy/tree/master/examples), including one for [an artist's top tracks](https://github.com/spotipy-dev/spotipy/blob/master/examples/simple_artist_top_tracks.py).\n",
    "\n",
    "```python\n",
    "from spotipy.oauth2 import SpotifyClientCredentials\n",
    "import spotipy\n",
    "\n",
    "lz_uri = 'spotify:artist:36QJpDe2go2KgaRleHCDTp'\n",
    "\n",
    "client_credentials_manager = SpotifyClientCredentials()\n",
    "sp = spotipy.Spotify(client_credentials_manager=client_credentials_manager)\n",
    "\n",
    "results = sp.artist_top_tracks(lz_uri)\n",
    "\n",
    "for track in results['tracks'][:10]:\n",
    "    print('track    : ' + track['name'])\n",
    "    print('audio    : ' + track['preview_url'])\n",
    "    print('cover art: ' + track['album']['images'][0]['url'])\n",
    "```\n",
    "\n",
    "Since we already have the credentials and blah blah blah set up, all we need to do is adapt the `sp.artist_top_tracks(lz_uri)` line and everything below it."
   ]
  },
  {
   "cell_type": "code",
   "execution_count": 5,
   "id": "947ff2a4-1be0-4dc5-9eeb-0a0dff9fff4f",
   "metadata": {},
   "outputs": [
    {
     "name": "stdout",
     "output_type": "stream",
     "text": [
      "Where Is My Mind? - 2007 Remaster\n",
      "Here Comes Your Man\n",
      "All I Think About Now\n",
      "Hey\n",
      "Monkey Gone to Heaven\n",
      "Debaser\n",
      "Gouge Away\n",
      "Wave Of Mutilation\n",
      "The Thing\n",
      "Gigantic - 2007 Remaster\n"
     ]
    }
   ],
   "source": [
    "results = sp.artist_top_tracks('spotify:artist:6zvul52xwTWzilBZl6BUbT')\n",
    "\n",
    "for track in results['tracks'][:10]:\n",
    "    print(track['name'])"
   ]
  },
  {
   "cell_type": "markdown",
   "id": "e5a7a659",
   "metadata": {},
   "source": [
    "And that's about it! You use magic codes and it lets you get up-to-date information."
   ]
  },
  {
   "cell_type": "markdown",
   "id": "3ef05e15",
   "metadata": {},
   "source": [
    "# Your mission\n",
    "\n",
    "I recently came across a Spotify playlist called [Fall in a 90s Suburb](https://open.spotify.com/playlist/7r2XnAUl6moWkcwOaWgihD?si=505c8f22f4314a33) while researching the band [SEAGULL SCREAMING KISS HER KISS HER](https://open.spotify.com/artist/1WSO9nf7wTj5DZBsncauGr?si=S0xpngxHR1mLF720lMZwxg). The playlist was pretty good, but since since SSKHKH only has like 1,500 listeners each month I was curious about the most/least popular songs on the playlist.\n",
    "\n",
    "## My questions\n",
    "\n",
    "1. What are the ten most popular songs on the playlist?\n",
    "2. What percentage of them have a popularity of zero? Print them out, sorted by the band name.\n",
    "3. Is popularity relative to the artist, the album, all songs on Spotify, or something else?\n",
    "\n",
    "### My suggested approach\n",
    "\n",
    "I suggest approaching this through the following steps:\n",
    "\n",
    "1. Getting the playlist and print out its **name and description**. \n",
    "2. Print out **the name and popularity of each song**\n",
    "3. Print out **the name, popularity, and artists** of each track on the playlist. Or, if you'd like a shortcut, just pick the first artist.\n",
    "4. Instead of printing, use these to **create a new dictionary** each time you look at a track. Print out this dictionary. You should be printing out 476 dictionaries!\n",
    "5. Printing isn't helpful! Instead, after you create the dictionary **append it** to a list called `all_tracks`\n",
    "6. When you're done, `all_tracks` should have 476 items in it\n",
    "7. Sort the list by `popularity`, take the **top ten**\n",
    "8. Filter the list by `popularity`, selecting only the ones with a popularity of `0`\n",
    "\n",
    "### Tips\n",
    "\n",
    "**Spotipy documentation:** https://spotipy.readthedocs.io/\n",
    "\n",
    "**Spotify Web API documentation:** https://developer.spotify.com/documentation/web-api/\n",
    "\n",
    "- Do this in many, many cells, not all in one!\n",
    "- You definitely want to [look at the Spotipy examples](https://github.com/spotipy-dev/spotipy/tree/master/examples) to find some good code to base your answer off of. There are a handful that talk about playlists – it might be helpful to read and compare a few of them!\n",
    "- Getting the playlist name/description is **a different endpoint** than getting the actual songs on the playlist.\n",
    "- Are you printing out the **same number of tracks as are in the actual playlist?** Take note and be careful! It should be ~476.\n",
    "- If you're getting the id of playlist songs but not seeing song names, look for `fields='items.track.id,total` in your code. It's only pulling the track's id! Change it to `items.track,total` and it will return [more information about each track](https://developer.spotify.com/documentation/web-api/reference/get-playlists-tracks)\n",
    "- `all_tracks = []` should be the first line in your cell. That makes sure it always resets to being empty before you start adding tracks to it.\n",
    "- Be sure the first and last items in `all_tracks` are different – maybe you're accidentally adding the same item each time!\n",
    "- Normally we sort lists of numbers, which is easy. Sorting a list of dictionaries can be done easily with `key=`. Look it up!\n",
    "- Pick the most popular 10 songs using list comprehensions\n",
    "- Filtering is best done with a list comprehension.\n",
    "- You can sort by things that aren't numbers!"
   ]
  },
  {
   "cell_type": "code",
   "execution_count": 6,
   "id": "f97ae547",
   "metadata": {},
   "outputs": [],
   "source": [
    "results = sp.search(q='90s Suburb', type='playlist')"
   ]
  },
  {
   "cell_type": "code",
   "execution_count": 7,
   "id": "5009a24d-67cd-4f4b-b263-de9a8862f15b",
   "metadata": {},
   "outputs": [
    {
     "data": {
      "text/plain": [
       "dict"
      ]
     },
     "execution_count": 7,
     "metadata": {},
     "output_type": "execute_result"
    }
   ],
   "source": [
    "type(results)"
   ]
  },
  {
   "cell_type": "code",
   "execution_count": 8,
   "id": "7ba8dfee-14ee-47f4-8941-3d6f31778adb",
   "metadata": {},
   "outputs": [
    {
     "data": {
      "text/plain": [
       "dict_keys(['playlists'])"
      ]
     },
     "execution_count": 8,
     "metadata": {},
     "output_type": "execute_result"
    }
   ],
   "source": [
    "results.keys()"
   ]
  },
  {
   "cell_type": "code",
   "execution_count": 9,
   "id": "e5fb6268-986f-4512-a42f-4fc446d59de5",
   "metadata": {},
   "outputs": [
    {
     "data": {
      "text/plain": [
       "dict"
      ]
     },
     "execution_count": 9,
     "metadata": {},
     "output_type": "execute_result"
    }
   ],
   "source": [
    "type(results[\"playlists\"])"
   ]
  },
  {
   "cell_type": "code",
   "execution_count": 10,
   "id": "3a031c79-fe9b-477d-9074-54ad359cbe37",
   "metadata": {},
   "outputs": [
    {
     "data": {
      "text/plain": [
       "dict_keys(['href', 'limit', 'next', 'offset', 'previous', 'total', 'items'])"
      ]
     },
     "execution_count": 10,
     "metadata": {},
     "output_type": "execute_result"
    }
   ],
   "source": [
    "results[\"playlists\"].keys()"
   ]
  },
  {
   "cell_type": "code",
   "execution_count": 11,
   "id": "89d09861-5965-4487-bf21-1f00a9b915da",
   "metadata": {},
   "outputs": [
    {
     "data": {
      "text/plain": [
       "10"
      ]
     },
     "execution_count": 11,
     "metadata": {},
     "output_type": "execute_result"
    }
   ],
   "source": [
    "len(results[\"playlists\"][\"items\"])"
   ]
  },
  {
   "cell_type": "code",
   "execution_count": 12,
   "id": "a7abd21c-ba63-411c-9f5e-eb191405f27c",
   "metadata": {},
   "outputs": [
    {
     "name": "stdout",
     "output_type": "stream",
     "text": [
      "Suburban sisterhood\n",
      "Fall in a 90s Suburb 🍂 \n",
      "if mid90s had a playlist 🤤\n",
      "White People Playlist \n",
      "90’s Female Grunge\n",
      "my 90s/2000s whimsigothic suburban childhood\n",
      "suburban cowboy\n",
      "90s Skate Music 🛹\n",
      "The Definitive 90s/00s Summer Playlist for Suburban White Boys\n"
     ]
    }
   ],
   "source": [
    "for playlist in results[\"playlists\"][\"items\"]:\n",
    "    if playlist != None:\n",
    "        print(playlist[\"name\"])"
   ]
  },
  {
   "cell_type": "code",
   "execution_count": 13,
   "id": "5edc9e69-9dcc-48a5-9c8b-6d4c3f586cc7",
   "metadata": {},
   "outputs": [
    {
     "data": {
      "text/plain": [
       "'Fall in a 90s Suburb 🍂 '"
      ]
     },
     "execution_count": 13,
     "metadata": {},
     "output_type": "execute_result"
    }
   ],
   "source": [
    "results[\"playlists\"][\"items\"][1][\"name\"]"
   ]
  },
  {
   "cell_type": "code",
   "execution_count": 14,
   "id": "208005fc-80ea-47bf-ab95-ffa9085cc6de",
   "metadata": {},
   "outputs": [
    {
     "data": {
      "text/plain": [
       "dict_keys(['collaborative', 'description', 'external_urls', 'href', 'id', 'images', 'name', 'owner', 'primary_color', 'public', 'snapshot_id', 'tracks', 'type', 'uri'])"
      ]
     },
     "execution_count": 14,
     "metadata": {},
     "output_type": "execute_result"
    }
   ],
   "source": [
    "results[\"playlists\"][\"items\"][1].keys()"
   ]
  },
  {
   "cell_type": "code",
   "execution_count": 15,
   "id": "20a39241-5104-4a49-8c98-29ef9cc9bdbc",
   "metadata": {},
   "outputs": [
    {
     "name": "stdout",
     "output_type": "stream",
     "text": [
      "spotify:playlist:7r2XnAUl6moWkcwOaWgihD\n"
     ]
    }
   ],
   "source": [
    "uri = f\"spotify:playlist:{results[\"playlists\"][\"items\"][1][\"id\"]}\"\n",
    "print(uri)"
   ]
  },
  {
   "cell_type": "code",
   "execution_count": 16,
   "id": "b3fa2fae-4b78-489a-a7ae-12a7572b503f",
   "metadata": {},
   "outputs": [],
   "source": [
    "results = sp.playlist_tracks(uri)\n",
    "songs = results[\"items\"]\n",
    "while results[\"next\"]:\n",
    "    results = sp.next(results)\n",
    "    songs.extend(results[\"items\"])"
   ]
  },
  {
   "cell_type": "code",
   "execution_count": 17,
   "id": "fb084da7-2e1a-46e6-bba0-5a2560ef72fb",
   "metadata": {},
   "outputs": [
    {
     "data": {
      "text/plain": [
       "list"
      ]
     },
     "execution_count": 17,
     "metadata": {},
     "output_type": "execute_result"
    }
   ],
   "source": [
    "type(songs)"
   ]
  },
  {
   "cell_type": "code",
   "execution_count": 18,
   "id": "571635e7-cee8-47fd-9b87-d7a54aa2e435",
   "metadata": {},
   "outputs": [
    {
     "data": {
      "text/plain": [
       "476"
      ]
     },
     "execution_count": 18,
     "metadata": {},
     "output_type": "execute_result"
    }
   ],
   "source": [
    "len(songs)"
   ]
  },
  {
   "cell_type": "code",
   "execution_count": 19,
   "id": "33dac232-3029-4921-86c6-7f933ba03db8",
   "metadata": {},
   "outputs": [
    {
     "data": {
      "text/plain": [
       "dict"
      ]
     },
     "execution_count": 19,
     "metadata": {},
     "output_type": "execute_result"
    }
   ],
   "source": [
    "type(songs[0])"
   ]
  },
  {
   "cell_type": "code",
   "execution_count": 20,
   "id": "bc688b1f-0921-45e6-a10e-368964403abc",
   "metadata": {},
   "outputs": [
    {
     "data": {
      "text/plain": [
       "dict_keys(['added_at', 'added_by', 'is_local', 'primary_color', 'track', 'video_thumbnail'])"
      ]
     },
     "execution_count": 20,
     "metadata": {},
     "output_type": "execute_result"
    }
   ],
   "source": [
    "songs[0].keys()"
   ]
  },
  {
   "cell_type": "code",
   "execution_count": 21,
   "id": "602fef09-97dd-4f80-94f4-2008c4d781e5",
   "metadata": {},
   "outputs": [
    {
     "data": {
      "text/plain": [
       "dict"
      ]
     },
     "execution_count": 21,
     "metadata": {},
     "output_type": "execute_result"
    }
   ],
   "source": [
    "type(songs[0][\"track\"])"
   ]
  },
  {
   "cell_type": "code",
   "execution_count": 22,
   "id": "0cd8357c-2348-498e-ae6b-21b72d5db9bb",
   "metadata": {},
   "outputs": [
    {
     "data": {
      "text/plain": [
       "dict_keys(['preview_url', 'available_markets', 'explicit', 'type', 'episode', 'track', 'album', 'artists', 'disc_number', 'track_number', 'duration_ms', 'external_ids', 'external_urls', 'href', 'id', 'name', 'popularity', 'uri', 'is_local'])"
      ]
     },
     "execution_count": 22,
     "metadata": {},
     "output_type": "execute_result"
    }
   ],
   "source": [
    "songs[0][\"track\"].keys()"
   ]
  },
  {
   "cell_type": "code",
   "execution_count": 23,
   "id": "2dc74e72-af0c-4195-ab6e-8e83ca691680",
   "metadata": {},
   "outputs": [
    {
     "data": {
      "text/plain": [
       "'Waiting For October'"
      ]
     },
     "execution_count": 23,
     "metadata": {},
     "output_type": "execute_result"
    }
   ],
   "source": [
    "songs[0][\"track\"][\"name\"]"
   ]
  },
  {
   "cell_type": "code",
   "execution_count": 24,
   "id": "fa1eed0d-b25b-4288-bd90-1a55258220a4",
   "metadata": {},
   "outputs": [
    {
     "data": {
      "text/plain": [
       "32"
      ]
     },
     "execution_count": 24,
     "metadata": {},
     "output_type": "execute_result"
    }
   ],
   "source": [
    "songs[0][\"track\"][\"popularity\"]"
   ]
  },
  {
   "cell_type": "code",
   "execution_count": 25,
   "id": "a9cbd1f6-3a52-428a-9541-e0f0e57887cb",
   "metadata": {},
   "outputs": [
    {
     "data": {
      "text/plain": [
       "'Polaris'"
      ]
     },
     "execution_count": 25,
     "metadata": {},
     "output_type": "execute_result"
    }
   ],
   "source": [
    "songs[0][\"track\"][\"artists\"][0][\"name\"]"
   ]
  },
  {
   "cell_type": "code",
   "execution_count": 26,
   "id": "4866d776-0afe-4ed1-bd91-e6e04b963d58",
   "metadata": {},
   "outputs": [],
   "source": [
    "all_tracks = []\n",
    "for track in songs:\n",
    "    item = {\n",
    "        \"name\": track[\"track\"][\"name\"],\n",
    "        \"popularity\": track[\"track\"][\"popularity\"],\n",
    "        \"artist\": track[\"track\"][\"artists\"][0][\"name\"]\n",
    "    }\n",
    "    all_tracks.append(item)"
   ]
  },
  {
   "cell_type": "code",
   "execution_count": 27,
   "id": "79325948-dcde-4b0c-a326-fc1d3b8a501d",
   "metadata": {},
   "outputs": [
    {
     "name": "stdout",
     "output_type": "stream",
     "text": [
      "{'name': 'The Sign of the Times', 'popularity': 23, 'artist': 'Dear Nora'}\n"
     ]
    }
   ],
   "source": [
    "print(all_tracks[-1])"
   ]
  },
  {
   "cell_type": "code",
   "execution_count": 28,
   "id": "35d28fdd-34d4-4acb-8df2-a27ded8dd6d8",
   "metadata": {},
   "outputs": [
    {
     "data": {
      "text/plain": [
       "476"
      ]
     },
     "execution_count": 28,
     "metadata": {},
     "output_type": "execute_result"
    }
   ],
   "source": [
    "len(all_tracks)"
   ]
  },
  {
   "cell_type": "code",
   "execution_count": 29,
   "id": "7588c872-431b-4051-b8ad-53dd529724ba",
   "metadata": {},
   "outputs": [],
   "source": [
    "#sorted tracks by popularity\n",
    "sorted_tracks = sorted(all_tracks, key=lambda track: track[\"popularity\"], reverse=True)"
   ]
  },
  {
   "cell_type": "code",
   "execution_count": 30,
   "id": "21545525-caa1-4546-8816-442c35700213",
   "metadata": {},
   "outputs": [
    {
     "data": {
      "text/plain": [
       "[{'name': '1979 - Remastered 2012',\n",
       "  'popularity': 81,\n",
       "  'artist': 'The Smashing Pumpkins'},\n",
       " {'name': 'Today - 2011 Remaster',\n",
       "  'popularity': 74,\n",
       "  'artist': 'The Smashing Pumpkins'},\n",
       " {'name': 'Cherry-coloured Funk', 'popularity': 71, 'artist': 'Cocteau Twins'},\n",
       " {'name': 'Halah', 'popularity': 70, 'artist': 'Mazzy Star'},\n",
       " {'name': 'Coffee & TV', 'popularity': 67, 'artist': 'Blur'},\n",
       " {'name': 'Drown', 'popularity': 66, 'artist': 'The Smashing Pumpkins'},\n",
       " {'name': 'When You Sleep', 'popularity': 65, 'artist': 'my bloody valentine'},\n",
       " {'name': 'She Bangs the Drums - Remastered 2009',\n",
       "  'popularity': 65,\n",
       "  'artist': 'The Stone Roses'},\n",
       " {'name': 'This Is the One - Remastered 2009',\n",
       "  'popularity': 59,\n",
       "  'artist': 'The Stone Roses'},\n",
       " {'name': 'Iceblink Luck', 'popularity': 59, 'artist': 'Cocteau Twins'}]"
      ]
     },
     "execution_count": 30,
     "metadata": {},
     "output_type": "execute_result"
    }
   ],
   "source": [
    "sorted_tracks[:10]"
   ]
  },
  {
   "cell_type": "code",
   "execution_count": 31,
   "id": "69244f89-0c40-4d32-ad45-6282eabd4ad6",
   "metadata": {},
   "outputs": [],
   "source": [
    "not_popular = []\n",
    "for track in all_tracks:\n",
    "    if track[\"popularity\"] == 0:\n",
    "        not_popular.append(track)"
   ]
  },
  {
   "cell_type": "code",
   "execution_count": 32,
   "id": "ce99fd68-2fcc-4bbc-be18-14f4ab8c08de",
   "metadata": {},
   "outputs": [
    {
     "data": {
      "text/plain": [
       "[{'name': \"When You're Sad\", 'popularity': 0, 'artist': 'A.R. Kane'},\n",
       " {'name': 'Dozen', 'popularity': 0, 'artist': \"Alison's Halo\"},\n",
       " {'name': 'Plumb Line', 'popularity': 0, 'artist': 'Archers Of Loaf'},\n",
       " {'name': 'Web in Front', 'popularity': 0, 'artist': 'Archers Of Loaf'},\n",
       " {'name': 'Splat', 'popularity': 0, 'artist': 'Bailter Space'},\n",
       " {'name': 'Noise', 'popularity': 0, 'artist': 'Beat Happening'},\n",
       " {'name': 'Godsend', 'popularity': 0, 'artist': 'Beat Happening'},\n",
       " {'name': 'Try Some to See', 'popularity': 0, 'artist': 'Beatnik Filmstars'},\n",
       " {'name': \"Get Me Away From Here, I'm Dying\",\n",
       "  'popularity': 0,\n",
       "  'artist': 'Belle and Sebastian'},\n",
       " {'name': 'Sleep The Clock Around',\n",
       "  'popularity': 0,\n",
       "  'artist': 'Belle and Sebastian'},\n",
       " {'name': 'The Boy With The Arab Strap',\n",
       "  'popularity': 0,\n",
       "  'artist': 'Belle and Sebastian'},\n",
       " {'name': 'The Stars of Track and Field',\n",
       "  'popularity': 0,\n",
       "  'artist': 'Belle and Sebastian'},\n",
       " {'name': \"If You're Feeling Sinister\",\n",
       "  'popularity': 0,\n",
       "  'artist': 'Belle and Sebastian'},\n",
       " {'name': 'Lazy Heart', 'popularity': 0, 'artist': 'Black Tambourine'},\n",
       " {'name': 'Throw Aggi Off the Bridge',\n",
       "  'popularity': 0,\n",
       "  'artist': 'Black Tambourine'},\n",
       " {'name': 'For Ex-Lovers Only', 'popularity': 0, 'artist': 'Black Tambourine'},\n",
       " {'name': 'Fling', 'popularity': 0, 'artist': 'Built To Spill'},\n",
       " {'name': 'Big Dipper', 'popularity': 0, 'artist': 'Built To Spill'},\n",
       " {'name': \"I Don't Do Crowds\", 'popularity': 0, 'artist': 'Camera Obscura'},\n",
       " {'name': 'Bluebeard - Remastered 2006',\n",
       "  'popularity': 0,\n",
       "  'artist': 'Cocteau Twins'},\n",
       " {'name': 'Iceblink Luck', 'popularity': 0, 'artist': 'Cocteau Twins'},\n",
       " {'name': 'Bluebeard', 'popularity': 0, 'artist': 'Cocteau Twins'},\n",
       " {'name': 'Summerhead', 'popularity': 0, 'artist': 'Cocteau Twins'},\n",
       " {'name': 'Water', 'popularity': 0, 'artist': 'Dinosaur Jr.'},\n",
       " {'name': \"Goin' Home\", 'popularity': 0, 'artist': 'Dinosaur Jr.'},\n",
       " {'name': 'I Live for That Look', 'popularity': 0, 'artist': 'Dinosaur Jr.'},\n",
       " {'name': 'Keep The Glove', 'popularity': 0, 'artist': 'Dinosaur Jr.'},\n",
       " {'name': 'Cooking', 'popularity': 0, 'artist': 'Duster'},\n",
       " {'name': 'Gold Dust', 'popularity': 0, 'artist': 'Duster'},\n",
       " {'name': 'Rose Parade', 'popularity': 0, 'artist': 'Elliott Smith'},\n",
       " {'name': 'Ballad Of Big Nothing', 'popularity': 0, 'artist': 'Elliott Smith'},\n",
       " {'name': 'Anytime You Want', 'popularity': 0, 'artist': \"Eric's Trip\"},\n",
       " {'name': 'The Shins', 'popularity': 0, 'artist': 'Flake Music'},\n",
       " {'name': 'Strange', 'popularity': 0, 'artist': 'Galaxie 500'},\n",
       " {'name': 'A.M. 180', 'popularity': 0, 'artist': 'Grandaddy'},\n",
       " {'name': 'Skateboarding Saves Me Twice',\n",
       "  'popularity': 0,\n",
       "  'artist': 'Grandaddy'},\n",
       " {'name': 'The Best Of Jill Hives',\n",
       "  'popularity': 0,\n",
       "  'artist': 'Guided By Voices'},\n",
       " {'name': 'Don’t Stop Now', 'popularity': 0, 'artist': 'Guided By Voices'},\n",
       " {'name': 'Motor Away', 'popularity': 0, 'artist': 'Guided By Voices'},\n",
       " {'name': 'Game Of Pricks', 'popularity': 0, 'artist': 'Guided By Voices'},\n",
       " {'name': 'Blimps Go 90', 'popularity': 0, 'artist': 'Guided By Voices'},\n",
       " {'name': 'Teenage FBI', 'popularity': 0, 'artist': 'Guided By Voices'},\n",
       " {'name': 'My Kind Of Soldier', 'popularity': 0, 'artist': 'Guided By Voices'},\n",
       " {'name': 'Strumpet', 'popularity': 0, 'artist': 'Lois'},\n",
       " {'name': 'Sweetness and Light', 'popularity': 0, 'artist': 'Lush'},\n",
       " {'name': 'Untogether', 'popularity': 0, 'artist': 'Lush'},\n",
       " {'name': 'For Love', 'popularity': 0, 'artist': 'Lush'},\n",
       " {'name': 'I Have The Moon', 'popularity': 0, 'artist': 'Lush'},\n",
       " {'name': 'Frans Hals', 'popularity': 0, 'artist': 'McCarthy'},\n",
       " {'name': 'The Well Of Loneliness', 'popularity': 0, 'artist': 'McCarthy'},\n",
       " {'name': 'Can The Haves Use Their Brains',\n",
       "  'popularity': 0,\n",
       "  'artist': 'McCarthy'},\n",
       " {'name': 'Polar Opposites', 'popularity': 0, 'artist': 'Modest Mouse'},\n",
       " {'name': '16', 'popularity': 0, 'artist': 'Noise Addict'},\n",
       " {'name': 'Boyfriendship', 'popularity': 0, 'artist': 'Noise Addict'},\n",
       " {'name': 'Throwing Back the Apple', 'popularity': 0, 'artist': 'Pale Saints'},\n",
       " {'name': 'Half-Life, Remembered', 'popularity': 0, 'artist': 'Pale Saints'},\n",
       " {'name': 'Sight of You', 'popularity': 0, 'artist': 'Pale Saints'},\n",
       " {'name': 'Colours and Shapes', 'popularity': 0, 'artist': 'Pale Saints'},\n",
       " {'name': 'Fell from the Sun - Remastered',\n",
       "  'popularity': 0,\n",
       "  'artist': 'Pale Saints'},\n",
       " {'name': 'Frontwards', 'popularity': 0, 'artist': 'Pavement'},\n",
       " {'name': 'Nail Clinic', 'popularity': 0, 'artist': 'Pavement'},\n",
       " {'name': 'Box Elder', 'popularity': 0, 'artist': 'Pavement'},\n",
       " {'name': 'Elevate Me Later', 'popularity': 0, 'artist': 'Pavement'},\n",
       " {'name': 'Stereo', 'popularity': 0, 'artist': 'Pavement'},\n",
       " {'name': 'Starlings of the Slipstream',\n",
       "  'popularity': 0,\n",
       "  'artist': 'Pavement'},\n",
       " {'name': 'Summer Babe (Winter Version)',\n",
       "  'popularity': 0,\n",
       "  'artist': 'Pavement'},\n",
       " {'name': 'Gold Soundz', 'popularity': 0, 'artist': 'Pavement'},\n",
       " {'name': 'Cut Your Hair', 'popularity': 0, 'artist': 'Pavement'},\n",
       " {'name': 'Zurich Is Stained', 'popularity': 0, 'artist': 'Pavement'},\n",
       " {'name': 'Range Life', 'popularity': 0, 'artist': 'Pavement'},\n",
       " {'name': 'Soiled Little Filly', 'popularity': 0, 'artist': 'Pavement'},\n",
       " {'name': 'Folk Jam', 'popularity': 0, 'artist': 'Pavement'},\n",
       " {'name': 'Date w/IKEA', 'popularity': 0, 'artist': 'Pavement'},\n",
       " {'name': 'Blue Hawaiian', 'popularity': 0, 'artist': 'Pavement'},\n",
       " {'name': 'In The Mouth A Desert (Remastered)',\n",
       "  'popularity': 0,\n",
       "  'artist': 'Pavement'},\n",
       " {'name': 'Harness Your Hopes - (B-side)',\n",
       "  'popularity': 0,\n",
       "  'artist': 'Pavement'},\n",
       " {'name': 'Tripoli', 'popularity': 0, 'artist': 'Pinback'},\n",
       " {'name': 'Gouge Away', 'popularity': 0, 'artist': 'Pixies'},\n",
       " {'name': 'Havalina', 'popularity': 0, 'artist': 'Pixies'},\n",
       " {'name': 'New Jersey', 'popularity': 0, 'artist': 'Red House Painters'},\n",
       " {'name': 'ANGEL',\n",
       "  'popularity': 0,\n",
       "  'artist': 'SEAGULL SCREAMING KISS HER KISS HER'},\n",
       " {'name': 'Rudy', 'popularity': 0, 'artist': 'Sammy'},\n",
       " {'name': 'Rebound - Remastered', 'popularity': 0, 'artist': 'Sebadoh'},\n",
       " {'name': \"Magnet's Coil - Remastered\", 'popularity': 0, 'artist': 'Sebadoh'},\n",
       " {'name': 'The Freed Pig', 'popularity': 0, 'artist': 'Sebadoh'},\n",
       " {'name': 'Got It - Remastered', 'popularity': 0, 'artist': 'Sebadoh'},\n",
       " {'name': 'Modern Girl', 'popularity': 0, 'artist': 'Sleater-Kinney'},\n",
       " {'name': 'Chlorine Dream', 'popularity': 0, 'artist': 'Spirea X'},\n",
       " {'name': 'Fire And Light', 'popularity': 0, 'artist': 'Spirea X'},\n",
       " {'name': 'Kissy Lips', 'popularity': 0, 'artist': 'Spraydog'},\n",
       " {'name': 'Post-Paint Boy', 'popularity': 0, 'artist': 'Stephen Malkmus'},\n",
       " {'name': 'The Light That Will Cease To Fail',\n",
       "  'popularity': 0,\n",
       "  'artist': 'Stereolab'},\n",
       " {'name': 'John Cage Bubblegum', 'popularity': 0, 'artist': 'Stereolab'},\n",
       " {'name': 'International Colouring Contest',\n",
       "  'popularity': 0,\n",
       "  'artist': 'Stereolab'},\n",
       " {'name': \"Cybele's Reverie\", 'popularity': 0, 'artist': 'Stereolab'},\n",
       " {'name': 'Tone Burst [Country]', 'popularity': 0, 'artist': 'Stereolab'},\n",
       " {'name': 'Lo Boob Oscillator', 'popularity': 0, 'artist': 'Stereolab'},\n",
       " {'name': 'Brittle', 'popularity': 0, 'artist': 'Stereolab'},\n",
       " {'name': 'Super-Electric', 'popularity': 0, 'artist': 'Stereolab'},\n",
       " {'name': 'U.H.F. - M.F.P.', 'popularity': 0, 'artist': 'Stereolab'},\n",
       " {'name': 'Harmonium', 'popularity': 0, 'artist': 'Stereolab'},\n",
       " {'name': \"If I Can't Change Your Mind\", 'popularity': 0, 'artist': 'Sugar'},\n",
       " {'name': 'Seed Toss', 'popularity': 0, 'artist': 'Superchunk'},\n",
       " {'name': 'Skip Steps 1 & 3', 'popularity': 0, 'artist': 'Superchunk'},\n",
       " {'name': 'Throwing Things', 'popularity': 0, 'artist': 'Superchunk'},\n",
       " {'name': 'Driveway to Driveway', 'popularity': 0, 'artist': 'Superchunk'},\n",
       " {'name': 'Cursed Mirror', 'popularity': 0, 'artist': 'Superchunk'},\n",
       " {'name': 'White Noise', 'popularity': 0, 'artist': 'Superchunk'},\n",
       " {'name': \"It's So Hard to Fall in Love\",\n",
       "  'popularity': 0,\n",
       "  'artist': 'Superchunk'},\n",
       " {'name': 'Everything Flows', 'popularity': 0, 'artist': 'Teenage Fanclub'},\n",
       " {'name': 'Every Picture I Paint',\n",
       "  'popularity': 0,\n",
       "  'artist': 'Teenage Fanclub'},\n",
       " {'name': \"Don't Need a Drum\", 'popularity': 0, 'artist': 'Teenage Fanclub'},\n",
       " {'name': 'Everything Flows', 'popularity': 0, 'artist': 'Teenage Fanclub'},\n",
       " {'name': \"Everybody's Fool\", 'popularity': 0, 'artist': 'Teenage Fanclub'},\n",
       " {'name': 'First Revival', 'popularity': 0, 'artist': 'The Amps'},\n",
       " {'name': 'Pacer', 'popularity': 0, 'artist': 'The Amps'},\n",
       " {'name': 'I Am Decided', 'popularity': 0, 'artist': 'The Amps'},\n",
       " {'name': 'Just Like a Briar', 'popularity': 0, 'artist': 'The Amps'},\n",
       " {'name': 'Is That All I Get For My Heart',\n",
       "  'popularity': 0,\n",
       "  'artist': 'The Bats'},\n",
       " {'name': 'Splendid Isolation', 'popularity': 0, 'artist': 'The Bevis Frond'},\n",
       " {'name': 'Forever is not So Long',\n",
       "  'popularity': 0,\n",
       "  'artist': 'The Bigger Lovers'},\n",
       " {'name': \"I'm Here\", 'popularity': 0, 'artist': 'The Bigger Lovers'},\n",
       " {'name': 'Fortunately Gone', 'popularity': 0, 'artist': 'The Breeders'},\n",
       " {'name': \"Don't Call Home\", 'popularity': 0, 'artist': 'The Breeders'},\n",
       " {'name': 'Divine Hammer', 'popularity': 0, 'artist': 'The Breeders'},\n",
       " {'name': 'Some One', 'popularity': 0, 'artist': 'The Clean'},\n",
       " {'name': 'We Could Walk Together',\n",
       "  'popularity': 0,\n",
       "  'artist': 'The Clientele'},\n",
       " {'name': 'Raised Eyebrows', 'popularity': 0, 'artist': 'The Feelies'},\n",
       " {'name': 'Christine', 'popularity': 0, 'artist': 'The House of Love'},\n",
       " {'name': 'Into Your Arms', 'popularity': 0, 'artist': 'The Lemonheads'},\n",
       " {'name': 'Confetti - Remastered',\n",
       "  'popularity': 0,\n",
       "  'artist': 'The Lemonheads'},\n",
       " {'name': \"If I Could Talk I'd Tell You\",\n",
       "  'popularity': 0,\n",
       "  'artist': 'The Lemonheads'},\n",
       " {'name': \"Alison's Starting To Happen - Remastered\",\n",
       "  'popularity': 0,\n",
       "  'artist': 'The Lemonheads'},\n",
       " {'name': 'The Turnpike Down - Remastered',\n",
       "  'popularity': 0,\n",
       "  'artist': 'The Lemonheads'},\n",
       " {'name': 'Bit Part - Remastered',\n",
       "  'popularity': 0,\n",
       "  'artist': 'The Lemonheads'},\n",
       " {'name': 'Born on a Train', 'popularity': 0, 'artist': 'The Magnetic Fields'},\n",
       " {'name': 'The Saddest Story Ever Told',\n",
       "  'popularity': 0,\n",
       "  'artist': 'The Magnetic Fields'},\n",
       " {'name': 'I Think I Need a New Heart',\n",
       "  'popularity': 0,\n",
       "  'artist': 'The Magnetic Fields'},\n",
       " {'name': 'The Flowers She Sent and the Flowers She Said She Sent',\n",
       "  'popularity': 0,\n",
       "  'artist': 'The Magnetic Fields'},\n",
       " {'name': \"I Don't Want to Get Over You\",\n",
       "  'popularity': 0,\n",
       "  'artist': 'The Magnetic Fields'},\n",
       " {'name': 'Why I Cry', 'popularity': 0, 'artist': 'The Magnetic Fields'},\n",
       " {'name': 'Desert Island', 'popularity': 0, 'artist': 'The Magnetic Fields'},\n",
       " {'name': 'Jumping Fences',\n",
       "  'popularity': 0,\n",
       "  'artist': 'The Olivia Tremor Control'},\n",
       " {'name': 'Love Athena',\n",
       "  'popularity': 0,\n",
       "  'artist': 'The Olivia Tremor Control'},\n",
       " {'name': 'Nothing To Be Done', 'popularity': 0, 'artist': 'The Pastels'},\n",
       " {'name': 'Thank You For Being You', 'popularity': 0, 'artist': 'The Pastels'},\n",
       " {'name': 'Not Unloved', 'popularity': 0, 'artist': 'The Pastels'},\n",
       " {'name': 'Know Your Onion!', 'popularity': 0, 'artist': 'The Shins'},\n",
       " {'name': 'Girl Inform Me', 'popularity': 0, 'artist': 'The Shins'},\n",
       " {'name': 'Pressed In A Book', 'popularity': 0, 'artist': 'The Shins'},\n",
       " {'name': 'Heart Condition', 'popularity': 0, 'artist': 'The Softies'},\n",
       " {'name': 'Sunflower', 'popularity': 0, 'artist': 'The Springfields'},\n",
       " {'name': \"You're Not The Only One I Know\",\n",
       "  'popularity': 0,\n",
       "  'artist': 'The Sundays'},\n",
       " {'name': 'I Kicked A Boy', 'popularity': 0, 'artist': 'The Sundays'},\n",
       " {'name': 'Hideous Towns', 'popularity': 0, 'artist': 'The Sundays'},\n",
       " {'name': 'Not Too Soon', 'popularity': 0, 'artist': 'Throwing Muses'},\n",
       " {'name': 'My Broken Heart', 'popularity': 0, 'artist': 'Tiger Trap'},\n",
       " {'name': 'Supreme Nothing', 'popularity': 0, 'artist': 'Tiger Trap'},\n",
       " {'name': 'Puzzle Pieces', 'popularity': 0, 'artist': 'Tiger Trap'},\n",
       " {'name': \"You're Sleeping\", 'popularity': 0, 'artist': 'Tiger Trap'},\n",
       " {'name': 'Make Out Club', 'popularity': 0, 'artist': 'Unrest'},\n",
       " {'name': 'Marzipan', 'popularity': 0, 'artist': 'Velocity Girl'},\n",
       " {'name': 'Pop Loser', 'popularity': 0, 'artist': 'Velocity Girl'},\n",
       " {'name': \"I Can't Stop Smiling\", 'popularity': 0, 'artist': 'Velocity Girl'},\n",
       " {'name': 'Drive Me Down', 'popularity': 0, 'artist': 'Velvet Crush'},\n",
       " {'name': 'Drive Me Down', 'popularity': 0, 'artist': 'Velvet Crush'},\n",
       " {'name': 'Barnaby, Hardly Working', 'popularity': 0, 'artist': 'Yo La Tengo'},\n",
       " {'name': 'Big Sky', 'popularity': 0, 'artist': 'Yo La Tengo'},\n",
       " {'name': 'Cherry Chapstick', 'popularity': 0, 'artist': 'Yo La Tengo'},\n",
       " {'name': 'Fog Over Frisco', 'popularity': 0, 'artist': 'Yo La Tengo'},\n",
       " {'name': 'Decora', 'popularity': 0, 'artist': 'Yo La Tengo'},\n",
       " {'name': 'Season of the Shark', 'popularity': 0, 'artist': 'Yo La Tengo'},\n",
       " {'name': 'Tom Courtenay', 'popularity': 0, 'artist': 'Yo La Tengo'},\n",
       " {'name': 'Sugarcube', 'popularity': 0, 'artist': 'Yo La Tengo'},\n",
       " {'name': 'Stockholm Syndrome', 'popularity': 0, 'artist': 'Yo La Tengo'},\n",
       " {'name': 'Drug Test', 'popularity': 0, 'artist': 'Yo La Tengo'},\n",
       " {'name': 'Autumn Sweater', 'popularity': 0, 'artist': 'Yo La Tengo'},\n",
       " {'name': 'From a Motel 6', 'popularity': 0, 'artist': 'Yo La Tengo'},\n",
       " {'name': \"Let's Save Tony Orlando's House\",\n",
       "  'popularity': 0,\n",
       "  'artist': 'Yo La Tengo'},\n",
       " {'name': 'Return To Hot Chicken', 'popularity': 0, 'artist': 'Yo La Tengo'},\n",
       " {'name': 'Lewis', 'popularity': 0, 'artist': 'Yo La Tengo'},\n",
       " {'name': 'The Cone of Silence', 'popularity': 0, 'artist': 'Yo La Tengo'},\n",
       " {'name': '3 Blocks From Groove Street',\n",
       "  'popularity': 0,\n",
       "  'artist': 'Yo La Tengo'},\n",
       " {'name': 'Clunk', 'popularity': 0, 'artist': 'Yo La Tengo'},\n",
       " {'name': 'Sleeping in the Beetle Bug',\n",
       "  'popularity': 0,\n",
       "  'artist': 'of Montreal'},\n",
       " {'name': \"I Can't Stop Your Memory\",\n",
       "  'popularity': 0,\n",
       "  'artist': 'of Montreal'},\n",
       " {'name': \"Don't Ask Me to Explain\", 'popularity': 0, 'artist': 'of Montreal'},\n",
       " {'name': 'This Feeling (Dereks Theme)',\n",
       "  'popularity': 0,\n",
       "  'artist': 'of Montreal'},\n",
       " {'name': 'Sleeping in the Beetle Bug',\n",
       "  'popularity': 0,\n",
       "  'artist': 'of Montreal'},\n",
       " {'name': \"At Night Trees Aren't Sleeping\",\n",
       "  'popularity': 0,\n",
       "  'artist': 'of Montreal'}]"
      ]
     },
     "execution_count": 32,
     "metadata": {},
     "output_type": "execute_result"
    }
   ],
   "source": [
    "#Sorted by artist\n",
    "sorted(not_popular, key=lambda track: track[\"artist\"])"
   ]
  },
  {
   "cell_type": "code",
   "execution_count": 33,
   "id": "21c4fa67-544c-4a76-8960-8c8624958e5f",
   "metadata": {},
   "outputs": [
    {
     "data": {
      "text/plain": [
       "190"
      ]
     },
     "execution_count": 33,
     "metadata": {},
     "output_type": "execute_result"
    }
   ],
   "source": [
    "len(not_popular)"
   ]
  },
  {
   "cell_type": "code",
   "execution_count": 34,
   "id": "facee840-e33f-4236-bf46-8358bf1c9b73",
   "metadata": {},
   "outputs": [],
   "source": [
    "percentaje = len(not_popular) / len(all_tracks)"
   ]
  },
  {
   "cell_type": "code",
   "execution_count": 35,
   "id": "aa639587-d6b1-4bab-afce-201951fbfa32",
   "metadata": {},
   "outputs": [
    {
     "name": "stdout",
     "output_type": "stream",
     "text": [
      "39.92% of the playlist's song have a popularity of 0.\n"
     ]
    }
   ],
   "source": [
    "print(f\"{percentaje * 100:.2f}% of the playlist's songs have a popularity of 0.\")"
   ]
  },
  {
   "cell_type": "code",
   "execution_count": null,
   "id": "2b30e85e-1d3b-4785-b0d3-f8f72793f4f2",
   "metadata": {},
   "outputs": [],
   "source": []
  }
 ],
 "metadata": {
  "kernelspec": {
   "display_name": "Python 3 (ipykernel)",
   "language": "python",
   "name": "python3"
  },
  "language_info": {
   "codemirror_mode": {
    "name": "ipython",
    "version": 3
   },
   "file_extension": ".py",
   "mimetype": "text/x-python",
   "name": "python",
   "nbconvert_exporter": "python",
   "pygments_lexer": "ipython3",
   "version": "3.12.10"
  }
 },
 "nbformat": 4,
 "nbformat_minor": 5
}
